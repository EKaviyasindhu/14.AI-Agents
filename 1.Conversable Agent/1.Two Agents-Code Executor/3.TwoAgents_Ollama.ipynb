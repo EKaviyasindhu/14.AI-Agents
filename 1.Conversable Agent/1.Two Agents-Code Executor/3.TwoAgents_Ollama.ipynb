{
 "cells": [
  {
   "cell_type": "code",
   "execution_count": 3,
   "id": "aeca920d-3020-47ec-a787-ef805be0a7e9",
   "metadata": {},
   "outputs": [
    {
     "data": {
      "text/plain": [
       "'0.9.9'"
      ]
     },
     "execution_count": 3,
     "metadata": {},
     "output_type": "execute_result"
    }
   ],
   "source": [
    "import autogen\n",
    "autogen.__version__"
   ]
  },
  {
   "cell_type": "code",
   "execution_count": 2,
   "id": "9324b50b-8c47-4396-ada9-b886a103ec5e",
   "metadata": {},
   "outputs": [],
   "source": [
    "#Dowmload ollama\n",
    "#ollama pull llama3 -- Downloading purpose\n",
    "#ollama run llama3 -- Prompting\n",
    "#!pip install pyautogen[ollama] (0.4.7)"
   ]
  },
  {
   "cell_type": "code",
   "execution_count": 4,
   "id": "783881c3-6a49-4af7-971d-adbe255eb654",
   "metadata": {},
   "outputs": [
    {
     "name": "stderr",
     "output_type": "stream",
     "text": [
      "🖇 AgentOps: [ConcurrentFuturesInstrumentor] Successfully instrumented concurrent.futures.ThreadPoolExecutor\n"
     ]
    }
   ],
   "source": [
    "import agentops\n",
    "agentops.init(\"yourkey\")"
   ]
  },
  {
   "cell_type": "code",
   "execution_count": 5,
   "id": "30806c12-83ee-491e-a4c4-3e3588516dfc",
   "metadata": {},
   "outputs": [],
   "source": [
    "from pathlib import Path\n",
    "\n",
    "from autogen import ConversableAgent\n",
    "from autogen.coding import  CodeBlock, LocalCommandLineCodeExecutor\n",
    "work_dir = Path(\"coding\")\n",
    "work_dir.mkdir(exist_ok=True)\n",
    "\n",
    "executor = LocalCommandLineCodeExecutor(work_dir=work_dir)\n",
    "\n",
    "#Agent 1\n",
    "code_executor_agent = ConversableAgent(\n",
    "    name=\"code_executor_agent\",\n",
    "    llm_config=False,\n",
    "    code_execution_config={\n",
    "        \"executor\": executor,\n",
    "    },\n",
    "    human_input_mode=\"NEVER\",\n",
    ")"
   ]
  },
  {
   "cell_type": "code",
   "execution_count": 6,
   "id": "ff1de663-2db1-44c4-9364-86a223db158a",
   "metadata": {},
   "outputs": [],
   "source": [
    "config_list = [\n",
    "    {\n",
    "        # Let's choose the Meta's Llama 3.1 model (model names must match Ollama exactly)\n",
    "        \"model\": \"llama3.1\",\n",
    "        # We specify the API Type as 'ollama' so it uses the Ollama client class\n",
    "        \"api_type\": \"ollama\",\n",
    "        \"stream\": False,\n",
    "        #\"client_host\": \"http://192.168.0.1:11434\",\n",
    "    }\n",
    "]"
   ]
  },
  {
   "cell_type": "code",
   "execution_count": 7,
   "id": "0ff51275-3922-45f2-8a6d-b7474a4fe0c8",
   "metadata": {},
   "outputs": [
    {
     "ename": "ImportError",
     "evalue": "Please install `ollama` and `fix-busted-json` to use the Ollama API.",
     "output_type": "error",
     "traceback": [
      "\u001b[31m---------------------------------------------------------------------------\u001b[39m",
      "\u001b[31mImportError\u001b[39m                               Traceback (most recent call last)",
      "\u001b[36mFile \u001b[39m\u001b[32mC:\\Anaconda3\\envs\\aiagents\\Lib\\site-packages\\agentops\\instrumentation\\agentic\\ag2\\instrumentor.py:150\u001b[39m, in \u001b[36mAG2Instrumentor._agent_init_wrapper.<locals>.wrapper\u001b[39m\u001b[34m(wrapped, instance, args, kwargs)\u001b[39m\n\u001b[32m    148\u001b[39m llm_config = kwargs.get(\u001b[33m\"\u001b[39m\u001b[33mllm_config\u001b[39m\u001b[33m\"\u001b[39m, {})\n\u001b[32m--> \u001b[39m\u001b[32m150\u001b[39m result = \u001b[43mwrapped\u001b[49m\u001b[43m(\u001b[49m\u001b[43m*\u001b[49m\u001b[43margs\u001b[49m\u001b[43m,\u001b[49m\u001b[43m \u001b[49m\u001b[43m*\u001b[49m\u001b[43m*\u001b[49m\u001b[43mkwargs\u001b[49m\u001b[43m)\u001b[49m\n\u001b[32m    152\u001b[39m model = \u001b[33m\"\u001b[39m\u001b[33munknown\u001b[39m\u001b[33m\"\u001b[39m\n",
      "\u001b[36mFile \u001b[39m\u001b[32mC:\\Anaconda3\\envs\\aiagents\\Lib\\site-packages\\autogen\\agentchat\\conversable_agent.py:263\u001b[39m, in \u001b[36mConversableAgent.__init__\u001b[39m\u001b[34m(self, name, system_message, is_termination_msg, max_consecutive_auto_reply, human_input_mode, function_map, code_execution_config, llm_config, default_auto_reply, description, chat_messages, silent, context_variables, functions, update_agent_state_before_reply, handoffs)\u001b[39m\n\u001b[32m    262\u001b[39m \u001b[38;5;28mself\u001b[39m.llm_config = \u001b[38;5;28mself\u001b[39m._validate_llm_config(llm_config)\n\u001b[32m--> \u001b[39m\u001b[32m263\u001b[39m \u001b[38;5;28mself\u001b[39m.client = \u001b[38;5;28;43mself\u001b[39;49m\u001b[43m.\u001b[49m\u001b[43m_create_client\u001b[49m\u001b[43m(\u001b[49m\u001b[38;5;28;43mself\u001b[39;49m\u001b[43m.\u001b[49m\u001b[43mllm_config\u001b[49m\u001b[43m)\u001b[49m\n\u001b[32m    264\u001b[39m \u001b[38;5;28mself\u001b[39m._validate_name(name)\n",
      "\u001b[36mFile \u001b[39m\u001b[32mC:\\Anaconda3\\envs\\aiagents\\Lib\\site-packages\\autogen\\agentchat\\conversable_agent.py:510\u001b[39m, in \u001b[36mConversableAgent._create_client\u001b[39m\u001b[34m(cls, llm_config)\u001b[39m\n\u001b[32m    508\u001b[39m \u001b[38;5;129m@classmethod\u001b[39m\n\u001b[32m    509\u001b[39m \u001b[38;5;28;01mdef\u001b[39;00m\u001b[38;5;250m \u001b[39m\u001b[34m_create_client\u001b[39m(\u001b[38;5;28mcls\u001b[39m, llm_config: LLMConfig | Literal[\u001b[38;5;28;01mFalse\u001b[39;00m]) -> OpenAIWrapper | \u001b[38;5;28;01mNone\u001b[39;00m:\n\u001b[32m--> \u001b[39m\u001b[32m510\u001b[39m     \u001b[38;5;28;01mreturn\u001b[39;00m \u001b[38;5;28;01mNone\u001b[39;00m \u001b[38;5;28;01mif\u001b[39;00m llm_config \u001b[38;5;129;01mis\u001b[39;00m \u001b[38;5;28;01mFalse\u001b[39;00m \u001b[38;5;28;01melse\u001b[39;00m \u001b[43mOpenAIWrapper\u001b[49m\u001b[43m(\u001b[49m\u001b[43m*\u001b[49m\u001b[43m*\u001b[49m\u001b[43mllm_config\u001b[49m\u001b[43m)\u001b[49m\n",
      "\u001b[36mFile \u001b[39m\u001b[32mC:\\Anaconda3\\envs\\aiagents\\Lib\\site-packages\\autogen\\oai\\client.py:807\u001b[39m, in \u001b[36mOpenAIWrapper.__init__\u001b[39m\u001b[34m(self, config_list, **base_config)\u001b[39m\n\u001b[32m    806\u001b[39m \u001b[38;5;28;01mfor\u001b[39;00m config_item \u001b[38;5;129;01min\u001b[39;00m config_list:\n\u001b[32m--> \u001b[39m\u001b[32m807\u001b[39m     \u001b[38;5;28;43mself\u001b[39;49m\u001b[43m.\u001b[49m\u001b[43m_register_default_client\u001b[49m\u001b[43m(\u001b[49m\u001b[43mconfig_item\u001b[49m\u001b[43m,\u001b[49m\u001b[43m \u001b[49m\u001b[43mopenai_config\u001b[49m\u001b[43m)\u001b[49m\n\u001b[32m    808\u001b[39m     \u001b[38;5;66;03m# Construct current_config_extra_kwargs using the cleaned extra_kwargs\u001b[39;00m\n\u001b[32m    809\u001b[39m     \u001b[38;5;66;03m# (which doesn't have routing_method from base_config)\u001b[39;00m\n\u001b[32m    810\u001b[39m     \u001b[38;5;66;03m# and specific non-openai kwargs from config_item.\u001b[39;00m\n",
      "\u001b[36mFile \u001b[39m\u001b[32mC:\\Anaconda3\\envs\\aiagents\\Lib\\site-packages\\autogen\\oai\\client.py:944\u001b[39m, in \u001b[36mOpenAIWrapper._register_default_client\u001b[39m\u001b[34m(self, config, openai_config)\u001b[39m\n\u001b[32m    943\u001b[39m \u001b[38;5;28;01mif\u001b[39;00m ollama_import_exception:\n\u001b[32m--> \u001b[39m\u001b[32m944\u001b[39m     \u001b[38;5;28;01mraise\u001b[39;00m \u001b[38;5;167;01mImportError\u001b[39;00m(\u001b[33m\"\u001b[39m\u001b[33mPlease install `ollama` and `fix-busted-json` to use the Ollama API.\u001b[39m\u001b[33m\"\u001b[39m)\n\u001b[32m    945\u001b[39m client = OllamaClient(response_format=response_format, **openai_config)\n",
      "\u001b[31mImportError\u001b[39m: Please install `ollama` and `fix-busted-json` to use the Ollama API.",
      "\nDuring handling of the above exception, another exception occurred:\n",
      "\u001b[31mImportError\u001b[39m                               Traceback (most recent call last)",
      "\u001b[36mCell\u001b[39m\u001b[36m \u001b[39m\u001b[32mIn[7]\u001b[39m\u001b[32m, line 21\u001b[39m\n\u001b[32m     17\u001b[39m \u001b[38;5;28;01mimport\u001b[39;00m\u001b[38;5;250m \u001b[39m\u001b[34;01mos\u001b[39;00m\n\u001b[32m     19\u001b[39m \u001b[38;5;66;03m#Agent 2\u001b[39;00m\n\u001b[32m---> \u001b[39m\u001b[32m21\u001b[39m code_writer_agent = \u001b[43mConversableAgent\u001b[49m\u001b[43m(\u001b[49m\n\u001b[32m     22\u001b[39m \u001b[43m    \u001b[49m\u001b[33;43m\"\u001b[39;49m\u001b[33;43mcode_writer\u001b[39;49m\u001b[33;43m\"\u001b[39;49m\u001b[43m,\u001b[49m\n\u001b[32m     23\u001b[39m \u001b[43m    \u001b[49m\u001b[43msystem_message\u001b[49m\u001b[43m=\u001b[49m\u001b[43mcode_writer_system_message\u001b[49m\u001b[43m,\u001b[49m\n\u001b[32m     24\u001b[39m \u001b[43m    \u001b[49m\u001b[43mllm_config\u001b[49m\u001b[43m=\u001b[49m\u001b[43m{\u001b[49m\u001b[33;43m\"\u001b[39;49m\u001b[33;43mconfig_list\u001b[39;49m\u001b[33;43m\"\u001b[39;49m\u001b[43m:\u001b[49m\u001b[43mconfig_list\u001b[49m\u001b[43m}\u001b[49m\u001b[43m,\u001b[49m\n\u001b[32m     25\u001b[39m \u001b[43m    \u001b[49m\u001b[43mcode_execution_config\u001b[49m\u001b[43m=\u001b[49m\u001b[38;5;28;43;01mFalse\u001b[39;49;00m\u001b[43m,\u001b[49m\u001b[43m  \u001b[49m\u001b[38;5;66;43;03m# Turn off code execution for this agent.\u001b[39;49;00m\n\u001b[32m     26\u001b[39m \u001b[43m    \u001b[49m\u001b[43mmax_consecutive_auto_reply\u001b[49m\u001b[43m=\u001b[49m\u001b[32;43m2\u001b[39;49m\u001b[43m,\u001b[49m\n\u001b[32m     27\u001b[39m \u001b[43m    \u001b[49m\u001b[43mhuman_input_mode\u001b[49m\u001b[43m=\u001b[49m\u001b[33;43m\"\u001b[39;49m\u001b[33;43mNEVER\u001b[39;49m\u001b[33;43m\"\u001b[39;49m\u001b[43m,\u001b[49m\n\u001b[32m     28\u001b[39m \u001b[43m)\u001b[49m\n",
      "\u001b[36mFile \u001b[39m\u001b[32mC:\\Anaconda3\\envs\\aiagents\\Lib\\site-packages\\agentops\\instrumentation\\agentic\\ag2\\instrumentor.py:160\u001b[39m, in \u001b[36mAG2Instrumentor._agent_init_wrapper.<locals>.wrapper\u001b[39m\u001b[34m(wrapped, instance, args, kwargs)\u001b[39m\n\u001b[32m    158\u001b[39m     \u001b[38;5;28;01mreturn\u001b[39;00m result\n\u001b[32m    159\u001b[39m \u001b[38;5;28;01mexcept\u001b[39;00m \u001b[38;5;167;01mException\u001b[39;00m:\n\u001b[32m--> \u001b[39m\u001b[32m160\u001b[39m     \u001b[38;5;28;01mreturn\u001b[39;00m \u001b[43mwrapped\u001b[49m\u001b[43m(\u001b[49m\u001b[43m*\u001b[49m\u001b[43margs\u001b[49m\u001b[43m,\u001b[49m\u001b[43m \u001b[49m\u001b[43m*\u001b[49m\u001b[43m*\u001b[49m\u001b[43mkwargs\u001b[49m\u001b[43m)\u001b[49m\n",
      "\u001b[36mFile \u001b[39m\u001b[32mC:\\Anaconda3\\envs\\aiagents\\Lib\\site-packages\\autogen\\agentchat\\conversable_agent.py:263\u001b[39m, in \u001b[36mConversableAgent.__init__\u001b[39m\u001b[34m(self, name, system_message, is_termination_msg, max_consecutive_auto_reply, human_input_mode, function_map, code_execution_config, llm_config, default_auto_reply, description, chat_messages, silent, context_variables, functions, update_agent_state_before_reply, handoffs)\u001b[39m\n\u001b[32m    257\u001b[39m         \u001b[38;5;28;01mraise\u001b[39;00m \u001b[38;5;167;01mTypeError\u001b[39;00m(\n\u001b[32m    258\u001b[39m             \u001b[33m\"\u001b[39m\u001b[33mPlease implement __deepcopy__ method for each value class in llm_config to support deepcopy.\u001b[39m\u001b[33m\"\u001b[39m\n\u001b[32m    259\u001b[39m             \u001b[33m\"\u001b[39m\u001b[33m Refer to the docs for more details: https://docs.ag2.ai/docs/user-guide/advanced-concepts/llm-configuration-deep-dive/#adding-http-client-in-llm_config-for-proxy\u001b[39m\u001b[33m\"\u001b[39m\n\u001b[32m    260\u001b[39m         ) \u001b[38;5;28;01mfrom\u001b[39;00m\u001b[38;5;250m \u001b[39m\u001b[34;01me\u001b[39;00m\n\u001b[32m    262\u001b[39m \u001b[38;5;28mself\u001b[39m.llm_config = \u001b[38;5;28mself\u001b[39m._validate_llm_config(llm_config)\n\u001b[32m--> \u001b[39m\u001b[32m263\u001b[39m \u001b[38;5;28mself\u001b[39m.client = \u001b[38;5;28;43mself\u001b[39;49m\u001b[43m.\u001b[49m\u001b[43m_create_client\u001b[49m\u001b[43m(\u001b[49m\u001b[38;5;28;43mself\u001b[39;49m\u001b[43m.\u001b[49m\u001b[43mllm_config\u001b[49m\u001b[43m)\u001b[49m\n\u001b[32m    264\u001b[39m \u001b[38;5;28mself\u001b[39m._validate_name(name)\n\u001b[32m    265\u001b[39m \u001b[38;5;28mself\u001b[39m._name = name\n",
      "\u001b[36mFile \u001b[39m\u001b[32mC:\\Anaconda3\\envs\\aiagents\\Lib\\site-packages\\autogen\\agentchat\\conversable_agent.py:510\u001b[39m, in \u001b[36mConversableAgent._create_client\u001b[39m\u001b[34m(cls, llm_config)\u001b[39m\n\u001b[32m    508\u001b[39m \u001b[38;5;129m@classmethod\u001b[39m\n\u001b[32m    509\u001b[39m \u001b[38;5;28;01mdef\u001b[39;00m\u001b[38;5;250m \u001b[39m\u001b[34m_create_client\u001b[39m(\u001b[38;5;28mcls\u001b[39m, llm_config: LLMConfig | Literal[\u001b[38;5;28;01mFalse\u001b[39;00m]) -> OpenAIWrapper | \u001b[38;5;28;01mNone\u001b[39;00m:\n\u001b[32m--> \u001b[39m\u001b[32m510\u001b[39m     \u001b[38;5;28;01mreturn\u001b[39;00m \u001b[38;5;28;01mNone\u001b[39;00m \u001b[38;5;28;01mif\u001b[39;00m llm_config \u001b[38;5;129;01mis\u001b[39;00m \u001b[38;5;28;01mFalse\u001b[39;00m \u001b[38;5;28;01melse\u001b[39;00m \u001b[43mOpenAIWrapper\u001b[49m\u001b[43m(\u001b[49m\u001b[43m*\u001b[49m\u001b[43m*\u001b[49m\u001b[43mllm_config\u001b[49m\u001b[43m)\u001b[49m\n",
      "\u001b[36mFile \u001b[39m\u001b[32mC:\\Anaconda3\\envs\\aiagents\\Lib\\site-packages\\autogen\\oai\\client.py:807\u001b[39m, in \u001b[36mOpenAIWrapper.__init__\u001b[39m\u001b[34m(self, config_list, **base_config)\u001b[39m\n\u001b[32m    805\u001b[39m config_list = [config.copy() \u001b[38;5;28;01mfor\u001b[39;00m config \u001b[38;5;129;01min\u001b[39;00m config_list]  \u001b[38;5;66;03m# make a copy before modifying\u001b[39;00m\n\u001b[32m    806\u001b[39m \u001b[38;5;28;01mfor\u001b[39;00m config_item \u001b[38;5;129;01min\u001b[39;00m config_list:\n\u001b[32m--> \u001b[39m\u001b[32m807\u001b[39m     \u001b[38;5;28;43mself\u001b[39;49m\u001b[43m.\u001b[49m\u001b[43m_register_default_client\u001b[49m\u001b[43m(\u001b[49m\u001b[43mconfig_item\u001b[49m\u001b[43m,\u001b[49m\u001b[43m \u001b[49m\u001b[43mopenai_config\u001b[49m\u001b[43m)\u001b[49m\n\u001b[32m    808\u001b[39m     \u001b[38;5;66;03m# Construct current_config_extra_kwargs using the cleaned extra_kwargs\u001b[39;00m\n\u001b[32m    809\u001b[39m     \u001b[38;5;66;03m# (which doesn't have routing_method from base_config)\u001b[39;00m\n\u001b[32m    810\u001b[39m     \u001b[38;5;66;03m# and specific non-openai kwargs from config_item.\u001b[39;00m\n\u001b[32m    811\u001b[39m     config_item_specific_extras = {k: v \u001b[38;5;28;01mfor\u001b[39;00m k, v \u001b[38;5;129;01min\u001b[39;00m config_item.items() \u001b[38;5;28;01mif\u001b[39;00m k \u001b[38;5;129;01mnot\u001b[39;00m \u001b[38;5;129;01min\u001b[39;00m \u001b[38;5;28mself\u001b[39m.openai_kwargs}\n",
      "\u001b[36mFile \u001b[39m\u001b[32mC:\\Anaconda3\\envs\\aiagents\\Lib\\site-packages\\autogen\\oai\\client.py:944\u001b[39m, in \u001b[36mOpenAIWrapper._register_default_client\u001b[39m\u001b[34m(self, config, openai_config)\u001b[39m\n\u001b[32m    942\u001b[39m \u001b[38;5;28;01melif\u001b[39;00m api_type \u001b[38;5;129;01mis\u001b[39;00m \u001b[38;5;129;01mnot\u001b[39;00m \u001b[38;5;28;01mNone\u001b[39;00m \u001b[38;5;129;01mand\u001b[39;00m api_type.startswith(\u001b[33m\"\u001b[39m\u001b[33mollama\u001b[39m\u001b[33m\"\u001b[39m):\n\u001b[32m    943\u001b[39m     \u001b[38;5;28;01mif\u001b[39;00m ollama_import_exception:\n\u001b[32m--> \u001b[39m\u001b[32m944\u001b[39m         \u001b[38;5;28;01mraise\u001b[39;00m \u001b[38;5;167;01mImportError\u001b[39;00m(\u001b[33m\"\u001b[39m\u001b[33mPlease install `ollama` and `fix-busted-json` to use the Ollama API.\u001b[39m\u001b[33m\"\u001b[39m)\n\u001b[32m    945\u001b[39m     client = OllamaClient(response_format=response_format, **openai_config)\n\u001b[32m    946\u001b[39m     \u001b[38;5;28mself\u001b[39m._clients.append(client)\n",
      "\u001b[31mImportError\u001b[39m: Please install `ollama` and `fix-busted-json` to use the Ollama API."
     ]
    }
   ],
   "source": [
    "# The code writer agent's system message is to instruct the LLM on how to\n",
    "# use the Jupyter code executor with IPython kernel.\n",
    "code_writer_system_message = \"\"\"\n",
    "You have been given coding capability to solve tasks using Python code.\n",
    "In the following cases, suggest python code (in a python coding block) or shell script (in a sh coding block) for the user to execute.\n",
    "    1. When you need to collect info, use the code to output the info you need, for example, browse or search the web, download/read a file, \n",
    "    print the content of a webpage or a file, get the current date/time, check the operating system. After sufficient info is printed and the \n",
    "    task is ready to be solved based on your language skill, you can solve the task by yourself.\n",
    "    2. When you need to perform some task with code, use the code to perform the task and output the result. Finish the task smartly.\n",
    "Solve the task step by step if you need to. If a plan is not provided, explain your plan first. Be clear which step uses code, and which step uses your \n",
    "language skill.When using code, you must indicate the script type in the code block. The user cannot provide any other feedback or perform any other \n",
    "action beyond executing the code you suggest. The user can't modify your code. So do not suggest incomplete code which requires users to modify. \n",
    "Don't use a code block if it's not intended to be executed by the user.\n",
    "If you want the user to save the code in a file before executing it, put # filename: <filename> inside the code block as the first line. Don't include multiple code blocks in one response. Do not ask users to copy and paste the result. Instead, use 'print' function for the output when relevant. Check the execution result returned by the user.\n",
    "\"\"\"\n",
    "\n",
    "import os\n",
    "\n",
    "#Agent 2\n",
    "\n",
    "code_writer_agent = ConversableAgent(\n",
    "    \"code_writer\",\n",
    "    system_message=code_writer_system_message,\n",
    "    llm_config={\"config_list\":config_list},\n",
    "    code_execution_config=False,  # Turn off code execution for this agent.\n",
    "    max_consecutive_auto_reply=2,\n",
    "    human_input_mode=\"NEVER\",\n",
    ")"
   ]
  },
  {
   "cell_type": "code",
   "execution_count": 10,
   "id": "2ae1ae8c-42ba-4c88-ac3d-2be110638655",
   "metadata": {},
   "outputs": [
    {
     "name": "stderr",
     "output_type": "stream",
     "text": [
      "🖇 AgentOps: Could not record event - no sessions detected. Create a session by calling agentops.start_session()\n"
     ]
    },
    {
     "name": "stdout",
     "output_type": "stream",
     "text": [
      "\u001b[33mcode_executor_agent\u001b[0m (to code_writer):\n",
      "\n",
      "Write optimized Python code to calculate the number of unique permutations of the word 'ALGEBRA.'\n",
      "    For example, the word 'ALGEbRA' should have 2520 unique permutations. Use efficient logic to compute the result and verify the output using \n",
      "    the word 'ALGEBRA.' The code should only return the final permutation count.\n",
      "\n",
      "--------------------------------------------------------------------------------\n"
     ]
    },
    {
     "name": "stderr",
     "output_type": "stream",
     "text": [
      "🖇 AgentOps: Could not record event - no sessions detected. Create a session by calling agentops.start_session()\n",
      "🖇 AgentOps: Could not record event - no sessions detected. Create a session by calling agentops.start_session()\n",
      "🖇 AgentOps: Could not record event - no sessions detected. Create a session by calling agentops.start_session()\n",
      "🖇 AgentOps: Could not record event - no sessions detected. Create a session by calling agentops.start_session()\n",
      "🖇 AgentOps: Could not record event - no sessions detected. Create a session by calling agentops.start_session()\n",
      "🖇 AgentOps: Could not record event - no sessions detected. Create a session by calling agentops.start_session()\n"
     ]
    },
    {
     "name": "stdout",
     "output_type": "stream",
     "text": [
      "\u001b[33mcode_writer\u001b[0m (to code_executor_agent):\n",
      "\n",
      "```python\n",
      "# filename: calculate_permutations.py\n",
      "\n",
      "def factorial(n):\n",
      "    \"\"\"Calculate n!\"\"\"\n",
      "    if n == 0:\n",
      "        return 1\n",
      "    else:\n",
      "        return n * factorial(n-1)\n",
      "\n",
      "def count_unique_permutations(word):\n",
      "    \"\"\"Count the number of unique permutations of a word.\"\"\"\n",
      "    # Convert to lowercase and count the frequency of each character\n",
      "    char_freq = {}\n",
      "    for char in word.lower():\n",
      "        if char in char_freq:\n",
      "            char_freq[char] += 1\n",
      "        else:\n",
      "            char_freq[char] = 1\n",
      "\n",
      "    # Calculate the total number of permutations using the formula n! / (k1! * k2! * ... * km!)\n",
      "    permutation_count = factorial(len(word))\n",
      "    for freq in char_freq.values():\n",
      "        permutation_count //= factorial(freq)\n",
      "\n",
      "    return permutation_count\n",
      "\n",
      "# Test with 'ALGEBRA'\n",
      "word = \"algebra\"\n",
      "print(count_unique_permutations(word))\n",
      "```\n",
      "\n",
      "--------------------------------------------------------------------------------\n"
     ]
    },
    {
     "name": "stderr",
     "output_type": "stream",
     "text": [
      "🖇 AgentOps: Could not record event - no sessions detected. Create a session by calling agentops.start_session()\n",
      "🖇 AgentOps: Could not record event - no sessions detected. Create a session by calling agentops.start_session()\n",
      "🖇 AgentOps: Could not record event - no sessions detected. Create a session by calling agentops.start_session()\n"
     ]
    },
    {
     "name": "stdout",
     "output_type": "stream",
     "text": [
      "\u001b[31m\n",
      ">>>>>>>> EXECUTING CODE BLOCK (inferred language is python)...\u001b[0m\n"
     ]
    },
    {
     "name": "stderr",
     "output_type": "stream",
     "text": [
      "🖇 AgentOps: Could not record event - no sessions detected. Create a session by calling agentops.start_session()\n",
      "🖇 AgentOps: Could not record event - no sessions detected. Create a session by calling agentops.start_session()\n"
     ]
    },
    {
     "name": "stdout",
     "output_type": "stream",
     "text": [
      "\u001b[33mcode_executor_agent\u001b[0m (to code_writer):\n",
      "\n",
      "exitcode: 0 (execution succeeded)\n",
      "Code output: 2520\n",
      "\n",
      "\n",
      "--------------------------------------------------------------------------------\n"
     ]
    },
    {
     "name": "stderr",
     "output_type": "stream",
     "text": [
      "🖇 AgentOps: Could not record event - no sessions detected. Create a session by calling agentops.start_session()\n",
      "🖇 AgentOps: Could not record event - no sessions detected. Create a session by calling agentops.start_session()\n",
      "🖇 AgentOps: Could not record event - no sessions detected. Create a session by calling agentops.start_session()\n",
      "🖇 AgentOps: Could not record event - no sessions detected. Create a session by calling agentops.start_session()\n",
      "🖇 AgentOps: Could not record event - no sessions detected. Create a session by calling agentops.start_session()\n",
      "🖇 AgentOps: Could not record event - no sessions detected. Create a session by calling agentops.start_session()\n"
     ]
    },
    {
     "name": "stdout",
     "output_type": "stream",
     "text": [
      "\u001b[33mcode_writer\u001b[0m (to code_executor_agent):\n",
      "\n",
      "The code successfully calculates the number of unique permutations for the word 'ALGEBRA' and returns the correct result, which is 2520. This is because there are no repeated characters in the word 'ALGEBRA', so the number of permutations is simply the factorial of its length (6!). The use of a recursive function to calculate factorials adds some complexity but improves readability and maintainability.\n",
      "\n",
      "--------------------------------------------------------------------------------\n"
     ]
    },
    {
     "name": "stderr",
     "output_type": "stream",
     "text": [
      "🖇 AgentOps: Could not record event - no sessions detected. Create a session by calling agentops.start_session()\n",
      "🖇 AgentOps: Could not record event - no sessions detected. Create a session by calling agentops.start_session()\n",
      "🖇 AgentOps: Could not record event - no sessions detected. Create a session by calling agentops.start_session()\n",
      "🖇 AgentOps: Could not record event - no sessions detected. Create a session by calling agentops.start_session()\n",
      "🖇 AgentOps: Could not record event - no sessions detected. Create a session by calling agentops.start_session()\n",
      "🖇 AgentOps: Could not record event - no sessions detected. Create a session by calling agentops.start_session()\n"
     ]
    },
    {
     "name": "stdout",
     "output_type": "stream",
     "text": [
      "\u001b[33mcode_executor_agent\u001b[0m (to code_writer):\n",
      "\n",
      "\n",
      "\n",
      "--------------------------------------------------------------------------------\n"
     ]
    },
    {
     "name": "stderr",
     "output_type": "stream",
     "text": [
      "🖇 AgentOps: Could not record event - no sessions detected. Create a session by calling agentops.start_session()\n",
      "🖇 AgentOps: Could not end session - no sessions detected\n"
     ]
    },
    {
     "name": "stdout",
     "output_type": "stream",
     "text": [
      "ChatResult(chat_id=None,\n",
      "           chat_history=[{'content': 'Write optimized Python code to calculate '\n",
      "                                     'the number of unique permutations of the '\n",
      "                                     \"word 'ALGEBRA.'\\n\"\n",
      "                                     \"    For example, the word 'ALGEbRA' \"\n",
      "                                     'should have 2520 unique permutations. '\n",
      "                                     'Use efficient logic to compute the '\n",
      "                                     'result and verify the output using \\n'\n",
      "                                     \"    the word 'ALGEBRA.' The code should \"\n",
      "                                     'only return the final permutation count.',\n",
      "                          'name': 'code_executor_agent',\n",
      "                          'role': 'assistant'},\n",
      "                         {'content': '```python\\n'\n",
      "                                     '# filename: calculate_permutations.py\\n'\n",
      "                                     '\\n'\n",
      "                                     'def factorial(n):\\n'\n",
      "                                     '    \"\"\"Calculate n!\"\"\"\\n'\n",
      "                                     '    if n == 0:\\n'\n",
      "                                     '        return 1\\n'\n",
      "                                     '    else:\\n'\n",
      "                                     '        return n * factorial(n-1)\\n'\n",
      "                                     '\\n'\n",
      "                                     'def count_unique_permutations(word):\\n'\n",
      "                                     '    \"\"\"Count the number of unique '\n",
      "                                     'permutations of a word.\"\"\"\\n'\n",
      "                                     '    # Convert to lowercase and count the '\n",
      "                                     'frequency of each character\\n'\n",
      "                                     '    char_freq = {}\\n'\n",
      "                                     '    for char in word.lower():\\n'\n",
      "                                     '        if char in char_freq:\\n'\n",
      "                                     '            char_freq[char] += 1\\n'\n",
      "                                     '        else:\\n'\n",
      "                                     '            char_freq[char] = 1\\n'\n",
      "                                     '\\n'\n",
      "                                     '    # Calculate the total number of '\n",
      "                                     'permutations using the formula n! / (k1! '\n",
      "                                     '* k2! * ... * km!)\\n'\n",
      "                                     '    permutation_count = '\n",
      "                                     'factorial(len(word))\\n'\n",
      "                                     '    for freq in char_freq.values():\\n'\n",
      "                                     '        permutation_count //= '\n",
      "                                     'factorial(freq)\\n'\n",
      "                                     '\\n'\n",
      "                                     '    return permutation_count\\n'\n",
      "                                     '\\n'\n",
      "                                     \"# Test with 'ALGEBRA'\\n\"\n",
      "                                     'word = \"algebra\"\\n'\n",
      "                                     'print(count_unique_permutations(word))\\n'\n",
      "                                     '```',\n",
      "                          'name': 'code_writer',\n",
      "                          'role': 'user'},\n",
      "                         {'content': 'exitcode: 0 (execution succeeded)\\n'\n",
      "                                     'Code output: 2520\\n',\n",
      "                          'name': 'code_executor_agent',\n",
      "                          'role': 'assistant'},\n",
      "                         {'content': 'The code successfully calculates the '\n",
      "                                     'number of unique permutations for the '\n",
      "                                     \"word 'ALGEBRA' and returns the correct \"\n",
      "                                     'result, which is 2520. This is because '\n",
      "                                     'there are no repeated characters in the '\n",
      "                                     \"word 'ALGEBRA', so the number of \"\n",
      "                                     'permutations is simply the factorial of '\n",
      "                                     'its length (6!). The use of a recursive '\n",
      "                                     'function to calculate factorials adds '\n",
      "                                     'some complexity but improves readability '\n",
      "                                     'and maintainability.',\n",
      "                          'name': 'code_writer',\n",
      "                          'role': 'user'},\n",
      "                         {'content': '',\n",
      "                          'name': 'code_executor_agent',\n",
      "                          'role': 'assistant'}],\n",
      "           summary='',\n",
      "           cost={'usage_excluding_cached_inference': {'llama3.1': {'completion_tokens': 279,\n",
      "                                                                   'cost': 0,\n",
      "                                                                   'prompt_tokens': 1097,\n",
      "                                                                   'total_tokens': 1376},\n",
      "                                                      'total_cost': 0},\n",
      "                 'usage_including_cached_inference': {'llama3.1': {'completion_tokens': 279,\n",
      "                                                                   'cost': 0,\n",
      "                                                                   'prompt_tokens': 1097,\n",
      "                                                                   'total_tokens': 1376},\n",
      "                                                      'total_cost': 0}},\n",
      "           human_input=[])\n"
     ]
    }
   ],
   "source": [
    "import pprint\n",
    "\n",
    "chat_result = code_executor_agent.initiate_chat(\n",
    "    code_writer_agent, message=\"\"\"Write optimized Python code to calculate the number of unique permutations of the word 'ALGEBRA.'\n",
    "    For example, the word 'ALGEbRA' should have 2520 unique permutations. Use efficient logic to compute the result and verify the output using \n",
    "    the word 'ALGEBRA.' The code should only return the final permutation count.\"\"\"\n",
    ")\n",
    "\n",
    "pprint.pprint(chat_result)\n",
    "#agentops.end_session(\"Success\")"
   ]
  },
  {
   "cell_type": "code",
   "execution_count": null,
   "id": "5148f5e1-7290-464e-9b95-b1fff71d5595",
   "metadata": {},
   "outputs": [],
   "source": [
    "dir(chat_result)\n"
   ]
  },
  {
   "cell_type": "code",
   "execution_count": null,
   "id": "9b8a1ec8-8aca-4aee-a6c6-add1ca8dfc85",
   "metadata": {},
   "outputs": [],
   "source": [
    "chat_result.chat_history"
   ]
  },
  {
   "cell_type": "code",
   "execution_count": null,
   "id": "af22aca1-3645-4234-897e-ca88924732f9",
   "metadata": {},
   "outputs": [],
   "source": [
    "chat_result.chat_id"
   ]
  },
  {
   "cell_type": "code",
   "execution_count": null,
   "id": "ad79de7f-6ae5-40fe-bbc4-fba32d936b67",
   "metadata": {},
   "outputs": [],
   "source": [
    "chat_result.cost"
   ]
  },
  {
   "cell_type": "code",
   "execution_count": null,
   "id": "a63b28d5-ad61-4394-970f-a0e6f831653e",
   "metadata": {},
   "outputs": [],
   "source": [
    "chat_result.human_input"
   ]
  },
  {
   "cell_type": "code",
   "execution_count": null,
   "id": "9f6e469d-4425-44ef-b531-027ee8104b2b",
   "metadata": {},
   "outputs": [],
   "source": [
    "chat_result.summary"
   ]
  },
  {
   "cell_type": "code",
   "execution_count": null,
   "id": "6828fb2e-c6ef-4ed6-9eaf-120851db488c",
   "metadata": {},
   "outputs": [],
   "source": []
  }
 ],
 "metadata": {
  "kernelspec": {
   "display_name": "Python (AI Agents)",
   "language": "python",
   "name": "aiagents"
  },
  "language_info": {
   "codemirror_mode": {
    "name": "ipython",
    "version": 3
   },
   "file_extension": ".py",
   "mimetype": "text/x-python",
   "name": "python",
   "nbconvert_exporter": "python",
   "pygments_lexer": "ipython3",
   "version": "3.11.11"
  }
 },
 "nbformat": 4,
 "nbformat_minor": 5
}
